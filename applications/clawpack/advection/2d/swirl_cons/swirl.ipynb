{
 "cells": [
  {
   "cell_type": "markdown",
   "metadata": {},
   "source": [
    "# Advection (conservative form)\n",
    "\n",
    "---\n",
    "\n",
    "Scalar advection problem in conservative form with  variable velocity field.\n",
    "There are four Riemann solvers that can be tried out here, all described in \n",
    "LeVeque (Cambridge Press, 2002)\n",
    "\n",
    "* rp-solver=1 : Q-star approach in which a $q^*$ value is defined to enforce flux  continuity across the stationery wave. \n",
    "* rp-solver=2 : Wave-decomposition approach based on solving the Riemann problem for system of two equations.\n",
    "* rp-solver=3 : Edge centered velocities are used to construct classic update based on flux formulation\n",
    "* rp=sovler=4 : F-wave approach.\n",
    "\n",
    "Two examples are avaible.  In Example 1, the velocity field $u(x)$ is positive. In Example 2, the velocity field changes sign.  Both velocity fields have non-zero\n",
    "divergence.\n",
    "\n",
    "---"
   ]
  },
  {
   "cell_type": "markdown",
   "metadata": {},
   "source": [
    "Run code in **serial mode** (will work, even if code is compiled with MPI)"
   ]
  },
  {
   "cell_type": "code",
   "execution_count": null,
   "metadata": {
    "collapsed": false
   },
   "outputs": [],
   "source": [
    "!swirlcons --user:example=2 --user:rp-solver=4"
   ]
  },
  {
   "cell_type": "markdown",
   "metadata": {},
   "source": [
    "---\n",
    "Or, run code in **parallel mode** (command may need to be customized, depending your on MPI installation.)"
   ]
  },
  {
   "cell_type": "code",
   "execution_count": null,
   "metadata": {
    "collapsed": false
   },
   "outputs": [],
   "source": [
    "#!mpirun -n 4 swirlcons"
   ]
  },
  {
   "cell_type": "markdown",
   "metadata": {},
   "source": [
    "---\n",
    "Create PNG files for web-browser viewing, or animation."
   ]
  },
  {
   "cell_type": "code",
   "execution_count": null,
   "metadata": {
    "collapsed": false
   },
   "outputs": [],
   "source": [
    "%run make_plots.py"
   ]
  },
  {
   "cell_type": "markdown",
   "metadata": {},
   "source": [
    "---\n",
    "View PNG files in browser, using URL above, or create an animation of all PNG files, using code below. "
   ]
  },
  {
   "cell_type": "code",
   "execution_count": null,
   "metadata": {
    "collapsed": false,
    "scrolled": false
   },
   "outputs": [],
   "source": [
    "%pylab inline"
   ]
  },
  {
   "cell_type": "code",
   "execution_count": null,
   "metadata": {
    "collapsed": false
   },
   "outputs": [],
   "source": [
    "import glob\n",
    "from matplotlib import image\n",
    "from clawpack.visclaw.JSAnimation import IPython_display\n",
    "from matplotlib import animation\n",
    "\n",
    "figno = 0\n",
    "fname = '_plots/*fig' + str(figno) + '.png'\n",
    "filenames=sorted(glob.glob(fname))\n",
    "\n",
    "fig = plt.figure()\n",
    "im = plt.imshow(image.imread(filenames[0]))\n",
    "def init():\n",
    "    im.set_data(image.imread(filenames[0]))\n",
    "    return im,\n",
    "\n",
    "def animate(i):\n",
    "    image_i=image.imread(filenames[i])\n",
    "    im.set_data(image_i)\n",
    "    return im,\n",
    "\n",
    "animation.FuncAnimation(fig, animate, init_func=init,\n",
    "                              frames=len(filenames), interval=500, blit=True)"
   ]
  },
  {
   "cell_type": "markdown",
   "metadata": {
    "collapsed": true
   },
   "source": [
    "---"
   ]
  }
 ],
 "metadata": {
  "kernelspec": {
   "display_name": "Python 2",
   "language": "python",
   "name": "python2"
  },
  "language_info": {
   "codemirror_mode": {
    "name": "ipython",
    "version": 2
   },
   "file_extension": ".py",
   "mimetype": "text/x-python",
   "name": "python",
   "nbconvert_exporter": "python",
   "pygments_lexer": "ipython2",
   "version": "2.7.11"
  }
 },
 "nbformat": 4,
 "nbformat_minor": 0
}
