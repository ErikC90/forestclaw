{
 "cells": [
  {
   "cell_type": "markdown",
   "metadata": {},
   "source": [
    "# Filament\n",
    "\n",
    "---\n",
    "\n",
    "Scalar advection problem with swirling velocity field.\n",
    "\n",
    "---"
   ]
  },
  {
   "cell_type": "markdown",
   "metadata": {},
   "source": [
    "Run code in **serial mode** (will work, even if code is compiled with MPI)"
   ]
  },
  {
   "cell_type": "code",
   "execution_count": null,
   "metadata": {
    "collapsed": true
   },
   "outputs": [],
   "source": [
    "!filament"
   ]
  },
  {
   "cell_type": "markdown",
   "metadata": {},
   "source": [
    "---\n",
    "Or, run code in **parallel mode** (command may need to be customized, depending your on MPI installation.)"
   ]
  },
  {
   "cell_type": "code",
   "execution_count": 1,
   "metadata": {
    "collapsed": false
   },
   "outputs": [
    {
     "name": "stdout",
     "output_type": "stream",
     "text": [
      "[libsc] This is libsc 2.0.5-2d03\n",
      "[libsc] CPP                      mpicxx -E\n",
      "[libsc] CPPFLAGS                 \n",
      "[libsc] CC                       mpicxx\n",
      "[libsc] CFLAGS                   -g -Wall -O0\n",
      "[libsc] LDFLAGS                  \n",
      "[libsc] LIBS                     -lgomp   -lz   \n",
      "[libsc] Shared memory node communicator size: 4\n",
      "[p4est] This is p4est 2.0.21-5772\n",
      "[p4est] CPP                      mpicxx -E\n",
      "[p4est] CPPFLAGS                 \n",
      "[p4est] CC                       mpicxx\n",
      "[p4est] CFLAGS                   -g -Wall -O0\n",
      "[p4est] LDFLAGS                  \n",
      "[p4est] LIBS                     -lgomp   -lz   \n",
      "[fclaw] This is ForestClaw 0.1.3720-8f0d-dirty\n",
      "[fclaw] CPP                      mpicxx -E\n",
      "[fclaw] CPPFLAGS                 \n",
      "[fclaw] F77                      mpif77\n",
      "[fclaw] FFLAGS                   -g -O0\n",
      "[fclaw] CC                       mpicxx\n",
      "[fclaw] CFLAGS                   -g -Wall -O0\n",
      "[fclaw] CXX                      mpicxx\n",
      "[fclaw] CXXFLAGS                 -g -O0 -Wall\n",
      "[fclaw] LDFLAGS                  \n",
      "[fclaw] FLIBS                     -L/opt/local/lib/mpich-gcc6 -L/opt/local/lib/gcc6/gcc/x86_64-apple-darwin15/6.3.0 -L/opt/local/lib/gcc6/gcc/x86_64-apple-darwin15/6.3.0/../../.. -lmpifort -lmpi -lpmpi -lgfortran -lquadmath -lm\n",
      "[fclaw] LIBS                     -lgomp   -lz   \n",
      "[fclaw] Reading file fclaw_options.ini.\n",
      "[fclaw] Options:\n",
      "[fclaw]    help                                 false\n",
      "[fclaw]    version                              false\n",
      "[fclaw]    print-options                        false\n",
      "[fclaw]    verbosity                            essential\n",
      "[fclaw]    lib-verbosity                        essential\n",
      "[fclaw]    initial_dt                           0.0025\n",
      "[fclaw]    max_cfl                              1\n",
      "[fclaw]    desired_cfl                          0.9\n",
      "[fclaw]    use_fixed_dt                         false\n",
      "[fclaw]    outstyle                             1\n",
      "[fclaw]    tfinal                               8\n",
      "[fclaw]    nout                                 32\n",
      "[fclaw]    nstep                                1\n",
      "[fclaw]    advance-one-step                     true\n",
      "[fclaw]    outstyle-uses-maxlevel               true\n",
      "[fclaw]    subcycle                             true\n",
      "[fclaw]    weighted_partition                   false\n",
      "[fclaw]    output                               true\n",
      "[fclaw]    tikz-out                             false\n",
      "[fclaw]    tikz-figsize                         4 4\n",
      "[fclaw]    tikz-plot-prefix                     plot\n",
      "[fclaw]    tikz-plot-suffix                     png\n",
      "[fclaw]    tikz-plot-fig                        true\n",
      "[fclaw]    prefix                               fort\n",
      "[fclaw]    vtkspace                             0\n",
      "[fclaw]    init_ghostcell                       false\n",
      "[fclaw]    minlevel                             3\n",
      "[fclaw]    maxlevel                             5\n",
      "[fclaw]    regrid_interval                      1\n",
      "[fclaw]    refratio                             2\n",
      "[fclaw]    smooth-refine                        true\n",
      "[fclaw]    smooth-level                         5\n",
      "[fclaw]    coarsen-delay                        0\n",
      "[fclaw]    refine_threshold                     0.25\n",
      "[fclaw]    coarsen_threshold                    0.05\n",
      "[fclaw]    run-user-diagnostics                 false\n",
      "[fclaw]    compute-error                        false\n",
      "[fclaw]    conservation-check                   false\n",
      "[fclaw]    report-timing                        false\n",
      "[fclaw]    ghost_patch_pack_area                true\n",
      "[fclaw]    ghost_patch_pack_extra               false\n",
      "[fclaw]    ghost_patch_pack_numextrafields      0\n",
      "[fclaw]    trapfpe                              false\n",
      "[fclaw]    mpi_debug                            false\n",
      "[fclaw]    ax                                   0\n",
      "[fclaw]    bx                                   2\n",
      "[fclaw]    ay                                   0\n",
      "[fclaw]    by                                   2\n",
      "[fclaw]    manifold                             false\n",
      "[fclaw]    mi                                   1\n",
      "[fclaw]    mj                                   1\n",
      "[fclaw]    periodic_x                           false\n",
      "[fclaw]    periodic_y                           false\n",
      "[fclaw]    scale                                1 1 1\n",
      "[fclaw]    shift                                0 0 0\n",
      "[fclaw]    phi                                  0\n",
      "[fclaw]    theta                                0\n",
      "[fclaw]    clawpatch:mx                         8\n",
      "[fclaw]    clawpatch:my                         8\n",
      "[fclaw]    clawpatch:maux                       3\n",
      "[fclaw]    clawpatch:mbc                        2\n",
      "[fclaw]    clawpatch:meqn                       1\n",
      "[fclaw]    clawpatch:interp_stencil_width       3\n",
      "[fclaw]    clawpatch:ghost_patch_pack_aux       true\n",
      "[fclaw]    clawpack46:order                     2 2\n",
      "[fclaw]    clawpack46:mcapa                     0\n",
      "[fclaw]    clawpack46:src_term                  false\n",
      "[fclaw]    clawpack46:use_fwaves                false\n",
      "[fclaw]    clawpack46:mwaves                    1\n",
      "[fclaw]    clawpack46:mthlim                    3\n",
      "[fclaw]    clawpack46:mthbc                     1 1 1 1\n",
      "[fclaw]    clawpack46:ascii-out                 true\n",
      "[fclaw]    clawpack46:vtk-out                   false\n",
      "[fclaw]    clawpack5:order                      2 2\n",
      "[fclaw]    clawpack5:mcapa                      0\n",
      "[fclaw]    clawpack5:src_term                   false\n",
      "[fclaw]    clawpack5:use_fwaves                 false\n",
      "[fclaw]    clawpack5:mwaves                     1\n",
      "[fclaw]    clawpack5:mthlim                     3\n",
      "[fclaw]    clawpack5:mthbc                      1 1 1 1\n",
      "[fclaw]    clawpack5:ascii-out                  true\n",
      "[fclaw]    clawpack5:vtk-out                    false\n",
      "[fclaw]    user:example                         0\n",
      "[fclaw]    user:claw-version                    4\n",
      "[fclaw]    user:alpha                           0.5\n",
      "[fclaw] Arguments: none\n",
      "[p4est 0] Local minimum/maximum levels:  3  3\n",
      "[p4est] Global minimum/maximum levels:  3  3\n",
      "[p4est 0] Patches on level  3:        16\n",
      "[p4est 1] Local minimum/maximum levels:  3  3\n",
      "[p4est 1] Patches on level  3:        16\n",
      "[p4est 2] Local minimum/maximum levels:  3  3\n",
      "[p4est 2] Patches on level  3:        16\n",
      "[p4est 3] Local minimum/maximum levels:  3  3\n",
      "[p4est 3] Patches on level  3:        16\n",
      "[fclaw] Max threads set to 0\n",
      "[fclaw] Output Frame    0  at time   0.00000000e+00\n",
      "\n",
      "[fclaw] Output Frame    1  at time   2.50000000e-01\n",
      "\n",
      "[fclaw] Output Frame    2  at time   5.00000000e-01\n",
      "\n",
      "[fclaw] Output Frame    3  at time   7.50000000e-01\n",
      "\n",
      "[fclaw] Output Frame    4  at time   1.00000000e+00\n",
      "\n",
      "[fclaw] Output Frame    5  at time   1.25000000e+00\n",
      "\n",
      "[fclaw] Output Frame    6  at time   1.50000000e+00\n",
      "\n",
      "[fclaw] Output Frame    7  at time   1.75000000e+00\n",
      "\n",
      "[fclaw] Output Frame    8  at time   2.00000000e+00\n",
      "\n",
      "[fclaw] Output Frame    9  at time   2.25000000e+00\n",
      "\n",
      "[fclaw] Output Frame   10  at time   2.50000000e+00\n",
      "\n",
      "[fclaw] Output Frame   11  at time   2.75000000e+00\n",
      "\n",
      "[fclaw] Output Frame   12  at time   3.00000000e+00\n",
      "\n",
      "[fclaw] Output Frame   13  at time   3.25000000e+00\n",
      "\n",
      "[fclaw] Output Frame   14  at time   3.50000000e+00\n",
      "\n",
      "[fclaw] Output Frame   15  at time   3.75000000e+00\n",
      "\n",
      "[fclaw] Output Frame   16  at time   4.00000000e+00\n",
      "\n",
      "[fclaw] Output Frame   17  at time   4.25000000e+00\n",
      "\n",
      "[fclaw] Output Frame   18  at time   4.50000000e+00\n",
      "\n",
      "[fclaw] Output Frame   19  at time   4.75000000e+00\n",
      "\n",
      "[fclaw] Output Frame   20  at time   5.00000000e+00\n",
      "\n",
      "[fclaw] Output Frame   21  at time   5.25000000e+00\n",
      "\n",
      "[fclaw] Output Frame   22  at time   5.50000000e+00\n",
      "\n",
      "[fclaw] Output Frame   23  at time   5.75000000e+00\n",
      "\n",
      "[fclaw] Output Frame   24  at time   6.00000000e+00\n",
      "\n",
      "[fclaw] Output Frame   25  at time   6.25000000e+00\n",
      "\n",
      "[fclaw] Output Frame   26  at time   6.50000000e+00\n",
      "\n",
      "[fclaw] Output Frame   27  at time   6.75000000e+00\n",
      "\n",
      "[fclaw] Output Frame   28  at time   7.00000000e+00\n",
      "\n",
      "[fclaw] Output Frame   29  at time   7.25000000e+00\n",
      "\n",
      "[fclaw] Output Frame   30  at time   7.50000000e+00\n",
      "\n",
      "[fclaw] Output Frame   31  at time   7.75000000e+00\n",
      "\n",
      "[fclaw] Output Frame   32  at time   8.00000000e+00\n",
      "\n",
      "[fclaw] Finalizing run\n"
     ]
    }
   ],
   "source": [
    "!mpirun -n 4 filament"
   ]
  },
  {
   "cell_type": "markdown",
   "metadata": {},
   "source": [
    "---\n",
    "Create PNG files for web-browser viewing, or animation."
   ]
  },
  {
   "cell_type": "code",
   "execution_count": 2,
   "metadata": {
    "collapsed": false
   },
   "outputs": [
    {
     "name": "stdout",
     "output_type": "stream",
     "text": [
      "Executed setplot successfully\n",
      "Will plot 33 frames numbered: [0, 1, 2, 3, 4, 5, 6, 7, 8, 9, 10, 11, 12, 13, 14, 15, 16, 17, 18, 19, 20, 21, 22, 23, 24, 25, 26, 27, 28, 29, 30, 31, 32]\n",
      "Will make 2 figure(s) for each frame, numbered:  [0, 1]\n",
      "\n",
      "-----------------------------------\n",
      "\n",
      "\n",
      "Creating html pages for figures...\n",
      "\n",
      "Directory '/Users/calhoun/projects/ForestClaw/code/forestclaw/applications/clawpack/advection/2d/filament/_plots' \n",
      "    already exists, files may be overwritten \n",
      "Now making png files for all figures...\n"
     ]
    },
    {
     "ename": "NameError",
     "evalue": "global name 'forestclaw' is not defined",
     "output_type": "error",
     "traceback": [
      "\u001b[0;31m---------------------------------------------------------------------------\u001b[0m",
      "\u001b[0;31mNameError\u001b[0m                                 Traceback (most recent call last)",
      "\u001b[0;32m/Users/calhoun/projects/ForestClaw/code/forestclaw/applications/clawpack/advection/2d/filament/make_plots.py\u001b[0m in \u001b[0;36m<module>\u001b[0;34m()\u001b[0m\n\u001b[1;32m    166\u001b[0m \u001b[0;32mif\u001b[0m \u001b[0m__name__\u001b[0m\u001b[0;34m==\u001b[0m\u001b[0;34m\"__main__\"\u001b[0m\u001b[0;34m:\u001b[0m\u001b[0;34m\u001b[0m\u001b[0m\n\u001b[1;32m    167\u001b[0m     \u001b[0;32mfrom\u001b[0m \u001b[0mclawpack\u001b[0m\u001b[0;34m.\u001b[0m\u001b[0mvisclaw\u001b[0m\u001b[0;34m.\u001b[0m\u001b[0mplotclaw\u001b[0m \u001b[0;32mimport\u001b[0m \u001b[0mplotclaw\u001b[0m\u001b[0;34m\u001b[0m\u001b[0m\n\u001b[0;32m--> 168\u001b[0;31m     \u001b[0mplotclaw\u001b[0m\u001b[0;34m(\u001b[0m\u001b[0moutdir\u001b[0m\u001b[0;34m=\u001b[0m\u001b[0;34m'.'\u001b[0m\u001b[0;34m,\u001b[0m\u001b[0msetplot\u001b[0m\u001b[0;34m=\u001b[0m\u001b[0msetplot\u001b[0m\u001b[0;34m,\u001b[0m\u001b[0mplotdir\u001b[0m\u001b[0;34m=\u001b[0m\u001b[0;34m'_plots'\u001b[0m\u001b[0;34m,\u001b[0m\u001b[0mformat\u001b[0m\u001b[0;34m=\u001b[0m\u001b[0;34m'forestclaw'\u001b[0m\u001b[0;34m)\u001b[0m\u001b[0;34m\u001b[0m\u001b[0m\n\u001b[0m\u001b[1;32m    169\u001b[0m \u001b[0;34m\u001b[0m\u001b[0m\n\u001b[1;32m    170\u001b[0m \u001b[0;34m\u001b[0m\u001b[0m\n",
      "\u001b[0;32m/Users/calhoun/clawpack5.0/clawpack/clawpack/visclaw/plotclaw.pyc\u001b[0m in \u001b[0;36mplotclaw\u001b[0;34m(outdir, plotdir, setplot, format, msgfile, frames, verbose)\u001b[0m\n\u001b[1;32m    150\u001b[0m         \u001b[0;31m# not in parallel:\u001b[0m\u001b[0;34m\u001b[0m\u001b[0;34m\u001b[0m\u001b[0m\n\u001b[1;32m    151\u001b[0m         \u001b[0mplotdata\u001b[0m\u001b[0;34m.\u001b[0m\u001b[0m_parallel_todo\u001b[0m \u001b[0;34m=\u001b[0m \u001b[0mNone\u001b[0m\u001b[0;34m\u001b[0m\u001b[0m\n\u001b[0;32m--> 152\u001b[0;31m         \u001b[0mplotpages\u001b[0m\u001b[0;34m.\u001b[0m\u001b[0mplotclaw_driver\u001b[0m\u001b[0;34m(\u001b[0m\u001b[0mplotdata\u001b[0m\u001b[0;34m,\u001b[0m \u001b[0mverbose\u001b[0m\u001b[0;34m=\u001b[0m\u001b[0mFalse\u001b[0m\u001b[0;34m,\u001b[0m \u001b[0mformat\u001b[0m\u001b[0;34m=\u001b[0m\u001b[0mformat\u001b[0m\u001b[0;34m)\u001b[0m\u001b[0;34m\u001b[0m\u001b[0m\n\u001b[0m\u001b[1;32m    153\u001b[0m \u001b[0;34m\u001b[0m\u001b[0m\n\u001b[1;32m    154\u001b[0m \u001b[0;34m\u001b[0m\u001b[0m\n",
      "\u001b[0;32m/Users/calhoun/clawpack5.0/clawpack/clawpack/visclaw/plotpages.pyc\u001b[0m in \u001b[0;36mwrapper\u001b[0;34m(*args, **kwds)\u001b[0m\n\u001b[1;32m   2725\u001b[0m         \u001b[0mstderr_save\u001b[0m \u001b[0;34m=\u001b[0m \u001b[0msys\u001b[0m\u001b[0;34m.\u001b[0m\u001b[0mstderr\u001b[0m\u001b[0;34m\u001b[0m\u001b[0m\n\u001b[1;32m   2726\u001b[0m         \u001b[0;32mtry\u001b[0m\u001b[0;34m:\u001b[0m\u001b[0;34m\u001b[0m\u001b[0m\n\u001b[0;32m-> 2727\u001b[0;31m             \u001b[0;32mreturn\u001b[0m \u001b[0mf\u001b[0m\u001b[0;34m(\u001b[0m\u001b[0;34m*\u001b[0m\u001b[0margs\u001b[0m\u001b[0;34m,\u001b[0m \u001b[0;34m**\u001b[0m\u001b[0mkwds\u001b[0m\u001b[0;34m)\u001b[0m\u001b[0;34m\u001b[0m\u001b[0m\n\u001b[0m\u001b[1;32m   2728\u001b[0m         \u001b[0;32mfinally\u001b[0m\u001b[0;34m:\u001b[0m\u001b[0;34m\u001b[0m\u001b[0m\n\u001b[1;32m   2729\u001b[0m             \u001b[0;31m# reset stdout for future print statements\u001b[0m\u001b[0;34m\u001b[0m\u001b[0;34m\u001b[0m\u001b[0m\n",
      "\u001b[0;32m/Users/calhoun/clawpack5.0/clawpack/clawpack/visclaw/plotpages.pyc\u001b[0m in \u001b[0;36mplotclaw_driver\u001b[0;34m(plotdata, verbose, format)\u001b[0m\n\u001b[1;32m   2988\u001b[0m             \u001b[0;31m# (unless plotdata._parallell_todo=='frames', handled earlier)\u001b[0m\u001b[0;34m\u001b[0m\u001b[0;34m\u001b[0m\u001b[0m\n\u001b[1;32m   2989\u001b[0m             \u001b[0;32mfor\u001b[0m \u001b[0mframeno\u001b[0m \u001b[0;32min\u001b[0m \u001b[0mframenos\u001b[0m\u001b[0;34m:\u001b[0m\u001b[0;34m\u001b[0m\u001b[0m\n\u001b[0;32m-> 2990\u001b[0;31m                 \u001b[0mframetools\u001b[0m\u001b[0;34m.\u001b[0m\u001b[0mplotframe\u001b[0m\u001b[0;34m(\u001b[0m\u001b[0mframeno\u001b[0m\u001b[0;34m,\u001b[0m \u001b[0mplotdata\u001b[0m\u001b[0;34m,\u001b[0m \u001b[0mverbose\u001b[0m\u001b[0;34m)\u001b[0m\u001b[0;34m\u001b[0m\u001b[0m\n\u001b[0m\u001b[1;32m   2991\u001b[0m                 \u001b[0;32mprint\u001b[0m\u001b[0;34m(\u001b[0m\u001b[0;34m'Frame %i at time t = %s'\u001b[0m \u001b[0;34m%\u001b[0m \u001b[0;34m(\u001b[0m\u001b[0mframeno\u001b[0m\u001b[0;34m,\u001b[0m \u001b[0mframetimes\u001b[0m\u001b[0;34m[\u001b[0m\u001b[0mframeno\u001b[0m\u001b[0;34m]\u001b[0m\u001b[0;34m)\u001b[0m\u001b[0;34m)\u001b[0m\u001b[0;34m\u001b[0m\u001b[0m\n\u001b[1;32m   2992\u001b[0m \u001b[0;34m\u001b[0m\u001b[0m\n",
      "\u001b[0;32m/Users/calhoun/clawpack5.0/clawpack/clawpack/visclaw/frametools.pyc\u001b[0m in \u001b[0;36mplotframe\u001b[0;34m(frameno, plotdata, verbose, simple, refresh)\u001b[0m\n\u001b[1;32m     76\u001b[0m         \u001b[0mplotdata\u001b[0m\u001b[0;34m.\u001b[0m\u001b[0m_outdirs\u001b[0m \u001b[0;34m=\u001b[0m \u001b[0;34m[\u001b[0m\u001b[0mplotdata\u001b[0m\u001b[0;34m.\u001b[0m\u001b[0moutdir\u001b[0m\u001b[0;34m]\u001b[0m\u001b[0;34m\u001b[0m\u001b[0m\n\u001b[1;32m     77\u001b[0m     \u001b[0;32mfor\u001b[0m \u001b[0moutdir\u001b[0m \u001b[0;32min\u001b[0m \u001b[0mplotdata\u001b[0m\u001b[0;34m.\u001b[0m\u001b[0m_outdirs\u001b[0m\u001b[0;34m:\u001b[0m\u001b[0;34m\u001b[0m\u001b[0m\n\u001b[0;32m---> 78\u001b[0;31m         \u001b[0mframesolns\u001b[0m\u001b[0;34m.\u001b[0m\u001b[0mappend\u001b[0m\u001b[0;34m(\u001b[0m\u001b[0mplotdata\u001b[0m\u001b[0;34m.\u001b[0m\u001b[0mgetframe\u001b[0m\u001b[0;34m(\u001b[0m\u001b[0mframeno\u001b[0m\u001b[0;34m,\u001b[0m \u001b[0moutdir\u001b[0m\u001b[0;34m,\u001b[0m \u001b[0mrefresh\u001b[0m\u001b[0;34m=\u001b[0m\u001b[0mrefresh\u001b[0m\u001b[0;34m)\u001b[0m\u001b[0;34m)\u001b[0m\u001b[0;34m\u001b[0m\u001b[0m\n\u001b[0m\u001b[1;32m     79\u001b[0m \u001b[0;34m\u001b[0m\u001b[0m\n\u001b[1;32m     80\u001b[0m \u001b[0;34m\u001b[0m\u001b[0m\n",
      "\u001b[0;32m/Users/calhoun/clawpack5.0/clawpack/clawpack/visclaw/data.pyc\u001b[0m in \u001b[0;36mgetframe\u001b[0;34m(self, frameno, outdir, refresh)\u001b[0m\n\u001b[1;32m    230\u001b[0m \u001b[0;34m\u001b[0m\u001b[0m\n\u001b[1;32m    231\u001b[0m         \u001b[0;32mif\u001b[0m \u001b[0mrefresh\u001b[0m \u001b[0;32mor\u001b[0m \u001b[0;34m(\u001b[0m\u001b[0mkey\u001b[0m \u001b[0;32mnot\u001b[0m \u001b[0;32min\u001b[0m \u001b[0mframesoln_dict\u001b[0m\u001b[0;34m)\u001b[0m\u001b[0;34m:\u001b[0m\u001b[0;34m\u001b[0m\u001b[0m\n\u001b[0;32m--> 232\u001b[0;31m             \u001b[0mframesoln\u001b[0m \u001b[0;34m=\u001b[0m \u001b[0msolution\u001b[0m\u001b[0;34m.\u001b[0m\u001b[0mSolution\u001b[0m\u001b[0;34m(\u001b[0m\u001b[0mframeno\u001b[0m\u001b[0;34m,\u001b[0m\u001b[0mpath\u001b[0m\u001b[0;34m=\u001b[0m\u001b[0moutdir\u001b[0m\u001b[0;34m,\u001b[0m\u001b[0mfile_format\u001b[0m\u001b[0;34m=\u001b[0m\u001b[0mself\u001b[0m\u001b[0;34m.\u001b[0m\u001b[0mformat\u001b[0m\u001b[0;34m)\u001b[0m\u001b[0;34m\u001b[0m\u001b[0m\n\u001b[0m\u001b[1;32m    233\u001b[0m             \u001b[0;32mif\u001b[0m \u001b[0;32mnot\u001b[0m \u001b[0mself\u001b[0m\u001b[0;34m.\u001b[0m\u001b[0msave_frames\u001b[0m\u001b[0;34m:\u001b[0m\u001b[0;34m\u001b[0m\u001b[0m\n\u001b[1;32m    234\u001b[0m                 \u001b[0mframesoln_dict\u001b[0m\u001b[0;34m.\u001b[0m\u001b[0mclear\u001b[0m\u001b[0;34m(\u001b[0m\u001b[0;34m)\u001b[0m\u001b[0;34m\u001b[0m\u001b[0m\n",
      "\u001b[0;32m/Users/calhoun/clawpack5.0/clawpack/clawpack/pyclaw/solution.pyc\u001b[0m in \u001b[0;36m__init__\u001b[0;34m(self, *arg, **kargs)\u001b[0m\n\u001b[1;32m    151\u001b[0m                 \u001b[0;32mpass\u001b[0m\u001b[0;34m\u001b[0m\u001b[0m\n\u001b[1;32m    152\u001b[0m \u001b[0;34m\u001b[0m\u001b[0m\n\u001b[0;32m--> 153\u001b[0;31m             \u001b[0mself\u001b[0m\u001b[0;34m.\u001b[0m\u001b[0mread\u001b[0m\u001b[0;34m(\u001b[0m\u001b[0mframe\u001b[0m\u001b[0;34m,\u001b[0m\u001b[0;34m**\u001b[0m\u001b[0mkargs\u001b[0m\u001b[0;34m)\u001b[0m\u001b[0;34m\u001b[0m\u001b[0m\n\u001b[0m\u001b[1;32m    154\u001b[0m         \u001b[0;32melif\u001b[0m \u001b[0mlen\u001b[0m\u001b[0;34m(\u001b[0m\u001b[0marg\u001b[0m\u001b[0;34m)\u001b[0m \u001b[0;34m==\u001b[0m \u001b[0;36m2\u001b[0m\u001b[0;34m:\u001b[0m\u001b[0;34m\u001b[0m\u001b[0m\n\u001b[1;32m    155\u001b[0m             \u001b[0;31m#Set domain\u001b[0m\u001b[0;34m\u001b[0m\u001b[0;34m\u001b[0m\u001b[0m\n",
      "\u001b[0;32m/Users/calhoun/clawpack5.0/clawpack/clawpack/pyclaw/solution.pyc\u001b[0m in \u001b[0;36mread\u001b[0;34m(self, frame, path, file_format, file_prefix, read_aux, options, **kargs)\u001b[0m\n\u001b[1;32m    339\u001b[0m         \u001b[0mpath\u001b[0m \u001b[0;34m=\u001b[0m \u001b[0mos\u001b[0m\u001b[0;34m.\u001b[0m\u001b[0mpath\u001b[0m\u001b[0;34m.\u001b[0m\u001b[0mexpandvars\u001b[0m\u001b[0;34m(\u001b[0m\u001b[0mos\u001b[0m\u001b[0;34m.\u001b[0m\u001b[0mpath\u001b[0m\u001b[0;34m.\u001b[0m\u001b[0mexpanduser\u001b[0m\u001b[0;34m(\u001b[0m\u001b[0mpath\u001b[0m\u001b[0;34m)\u001b[0m\u001b[0;34m)\u001b[0m\u001b[0;34m\u001b[0m\u001b[0m\n\u001b[1;32m    340\u001b[0m         \u001b[0;32mif\u001b[0m \u001b[0mfile_prefix\u001b[0m \u001b[0;32mis\u001b[0m \u001b[0mNone\u001b[0m\u001b[0;34m:\u001b[0m\u001b[0;34m\u001b[0m\u001b[0m\n\u001b[0;32m--> 341\u001b[0;31m             \u001b[0mread_func\u001b[0m\u001b[0;34m(\u001b[0m\u001b[0mself\u001b[0m\u001b[0;34m,\u001b[0m\u001b[0mframe\u001b[0m\u001b[0;34m,\u001b[0m\u001b[0mpath\u001b[0m\u001b[0;34m,\u001b[0m\u001b[0mread_aux\u001b[0m\u001b[0;34m=\u001b[0m\u001b[0mread_aux\u001b[0m\u001b[0;34m,\u001b[0m\u001b[0moptions\u001b[0m\u001b[0;34m=\u001b[0m\u001b[0moptions\u001b[0m\u001b[0;34m)\u001b[0m\u001b[0;34m\u001b[0m\u001b[0m\n\u001b[0m\u001b[1;32m    342\u001b[0m         \u001b[0;32melse\u001b[0m\u001b[0;34m:\u001b[0m\u001b[0;34m\u001b[0m\u001b[0m\n\u001b[1;32m    343\u001b[0m             read_func(self,frame,path,file_prefix=file_prefix,\n",
      "\u001b[0;32m/Users/calhoun/clawpack5.0/clawpack/clawpack/pyclaw/fileio/ascii.pyc\u001b[0m in \u001b[0;36mread\u001b[0;34m(solution, frame, path, file_prefix, read_aux, options)\u001b[0m\n\u001b[1;32m    179\u001b[0m             \u001b[0;31m# patch = read_patch_header(f, num_dim)\u001b[0m\u001b[0;34m\u001b[0m\u001b[0;34m\u001b[0m\u001b[0m\n\u001b[1;32m    180\u001b[0m             \u001b[0;32mfrom\u001b[0m \u001b[0mclawpack\u001b[0m\u001b[0;34m.\u001b[0m\u001b[0mforestclaw\u001b[0m\u001b[0;34m.\u001b[0m\u001b[0mfileio\u001b[0m\u001b[0;34m.\u001b[0m\u001b[0mascii\u001b[0m \u001b[0;32mimport\u001b[0m \u001b[0mread_patch_header\u001b[0m\u001b[0;34m\u001b[0m\u001b[0m\n\u001b[0;32m--> 181\u001b[0;31m             \u001b[0mpatch\u001b[0m \u001b[0;34m=\u001b[0m \u001b[0mread_patch_header\u001b[0m\u001b[0;34m(\u001b[0m\u001b[0mf\u001b[0m\u001b[0;34m,\u001b[0m\u001b[0mnum_dim\u001b[0m\u001b[0;34m)\u001b[0m\u001b[0;34m\u001b[0m\u001b[0m\n\u001b[0m\u001b[1;32m    182\u001b[0m \u001b[0;34m\u001b[0m\u001b[0m\n\u001b[1;32m    183\u001b[0m \u001b[0;34m\u001b[0m\u001b[0m\n",
      "\u001b[0;32m/Users/calhoun/clawpack5.0/clawpack/clawpack/forestclaw/fileio/ascii.pyc\u001b[0m in \u001b[0;36mread_patch_header\u001b[0;34m(f, num_dim)\u001b[0m\n\u001b[1;32m     68\u001b[0m     \u001b[0mnames\u001b[0m \u001b[0;34m=\u001b[0m \u001b[0;34m[\u001b[0m\u001b[0;34m'x'\u001b[0m\u001b[0;34m,\u001b[0m \u001b[0;34m'y'\u001b[0m\u001b[0;34m,\u001b[0m \u001b[0;34m'z'\u001b[0m\u001b[0;34m]\u001b[0m\u001b[0;34m\u001b[0m\u001b[0m\n\u001b[1;32m     69\u001b[0m     dimensions = [forestclaw.geometry.Dimension(lower[i], lower[i] + n[i] * d[i],\n\u001b[0;32m---> 70\u001b[0;31m                   n[i], name=names[i]) for i in range(num_dim)]\n\u001b[0m\u001b[1;32m     71\u001b[0m     \u001b[0mpatch\u001b[0m \u001b[0;34m=\u001b[0m \u001b[0mforestclaw\u001b[0m\u001b[0;34m.\u001b[0m\u001b[0mgeometry\u001b[0m\u001b[0;34m.\u001b[0m\u001b[0mPatch\u001b[0m\u001b[0;34m(\u001b[0m\u001b[0mdimensions\u001b[0m\u001b[0;34m)\u001b[0m\u001b[0;34m\u001b[0m\u001b[0m\n\u001b[1;32m     72\u001b[0m \u001b[0;34m\u001b[0m\u001b[0m\n",
      "\u001b[0;31mNameError\u001b[0m: global name 'forestclaw' is not defined"
     ]
    }
   ],
   "source": [
    "%run make_plots.py"
   ]
  },
  {
   "cell_type": "markdown",
   "metadata": {},
   "source": [
    "---\n",
    "View PNG files in browser, using URL above, or create an animation of all PNG files, using code below. "
   ]
  },
  {
   "cell_type": "code",
   "execution_count": null,
   "metadata": {
    "collapsed": false,
    "scrolled": false
   },
   "outputs": [],
   "source": [
    "%pylab inline"
   ]
  },
  {
   "cell_type": "code",
   "execution_count": null,
   "metadata": {
    "collapsed": false
   },
   "outputs": [],
   "source": [
    "import glob\n",
    "from matplotlib import image\n",
    "from clawpack.visclaw.JSAnimation import IPython_display\n",
    "from matplotlib import animation\n",
    "\n",
    "figno = 0\n",
    "fname = '_plots/*fig' + str(figno) + '.png'\n",
    "filenames=sorted(glob.glob(fname))\n",
    "\n",
    "fig = plt.figure()\n",
    "im = plt.imshow(image.imread(filenames[0]))\n",
    "def init():\n",
    "    im.set_data(image.imread(filenames[0]))\n",
    "    return im,\n",
    "\n",
    "def animate(i):\n",
    "    image_i=image.imread(filenames[i])\n",
    "    im.set_data(image_i)\n",
    "    return im,\n",
    "\n",
    "animation.FuncAnimation(fig, animate, init_func=init,\n",
    "                              frames=len(filenames), interval=500, blit=True)"
   ]
  },
  {
   "cell_type": "markdown",
   "metadata": {
    "collapsed": true
   },
   "source": [
    "---"
   ]
  }
 ],
 "metadata": {
  "kernelspec": {
   "display_name": "Python 2",
   "language": "python",
   "name": "python2"
  },
  "language_info": {
   "codemirror_mode": {
    "name": "ipython",
    "version": 2
   },
   "file_extension": ".py",
   "mimetype": "text/x-python",
   "name": "python",
   "nbconvert_exporter": "python",
   "pygments_lexer": "ipython2",
   "version": "2.7.11"
  }
 },
 "nbformat": 4,
 "nbformat_minor": 0
}
